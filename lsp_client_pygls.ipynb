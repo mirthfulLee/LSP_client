{
 "cells": [
  {
   "cell_type": "markdown",
   "metadata": {},
   "source": [
    "# LSP Client with pygls lib\n",
    "\n",
    "Communicate with Language Server with LSP, so that many functionalities is available such as get the definition location of target function, get the hover information of target element, get incoming or outgoing calls..\n",
    "\n",
    "\n",
    "## Environment\n",
    "* python 3.8 - 3.10\n",
    "* latest pygls: `pip install pygls==latest`\n",
    "\n",
    "## References\n",
    "* Test Cases in [pygls-repository](https://github.com/openlawlibrary/pygls)\n",
    "* Type definition and API in [Documentation](https://pygls.readthedocs.io/en/latest/)\n",
    "* Official [LSP documentation](https://microsoft.github.io/language-server-protocol/specifications/lsp/3.17/specification/#initialize)\n",
    "* LSP Server [List](https://microsoft.github.io/language-server-protocol/implementors/servers/) of different languages."
   ]
  },
  {
   "cell_type": "code",
   "execution_count": 1,
   "metadata": {},
   "outputs": [],
   "source": [
    "import pygls.lsp.client as lsp_client\n",
    "from pygls import uris\n",
    "from pygls.protocol import LanguageServerProtocol, default_converter\n",
    "import pygls\n",
    "import lsprotocol.types as lsp_types\n",
    "\n",
    "from typing import Dict, List, Type\n",
    "from concurrent.futures import Future\n",
    "import asyncio\n",
    "import os\n",
    "import logging\n",
    "\n",
    "logger = logging.getLogger(__name__)"
   ]
  },
  {
   "cell_type": "markdown",
   "metadata": {},
   "source": [
    "## Create Language Client\n",
    "[Reference](https://github.com/openlawlibrary/pygls/blob/8e1e8fa3b1ab16fcb804f7d5330ece2e5583206b/tests/client.py#L162)"
   ]
  },
  {
   "cell_type": "code",
   "execution_count": 2,
   "metadata": {},
   "outputs": [],
   "source": [
    "class LanguageClientProtocol(LanguageServerProtocol):\n",
    "    \"\"\"An extended protocol class with extra methods that are useful for testing.\"\"\"\n",
    "\n",
    "    def __init__(self, *args, **kwargs):\n",
    "        super().__init__(*args, **kwargs)\n",
    "\n",
    "        self._notification_futures = {}\n",
    "\n",
    "    def _handle_notification(self, method_name, params):\n",
    "        if method_name == lsp_types.CANCEL_REQUEST:\n",
    "            self._handle_cancel_notification(params.id)\n",
    "            return\n",
    "\n",
    "        future = self._notification_futures.pop(method_name, None)\n",
    "        if future:\n",
    "            future.set_result(params)\n",
    "\n",
    "        try:\n",
    "            handler = self._get_handler(method_name)\n",
    "            self._execute_notification(handler, params)\n",
    "        except (KeyError, pygls.exceptions.JsonRpcMethodNotFound):\n",
    "            logger.warning(\"Ignoring notification for unknown method '%s'\", method_name)\n",
    "        except Exception:\n",
    "            logger.exception(\n",
    "                \"Failed to handle notification '%s': %s\", method_name, params\n",
    "            )\n",
    "\n",
    "    def wait_for_notification(self, method: str, callback=None):\n",
    "        future: Future = Future()\n",
    "        if callback:\n",
    "\n",
    "            def wrapper(future: Future):\n",
    "                result = future.result()\n",
    "                callback(result)\n",
    "\n",
    "            future.add_done_callback(wrapper)\n",
    "\n",
    "        self._notification_futures[method] = future\n",
    "        return future\n",
    "\n",
    "    def wait_for_notification_async(self, method: str):\n",
    "        future = self.wait_for_notification(method)\n",
    "        return asyncio.wrap_future(future)"
   ]
  },
  {
   "cell_type": "code",
   "execution_count": 3,
   "metadata": {},
   "outputs": [],
   "source": [
    "class LanguageClient(lsp_client.BaseLanguageClient):\n",
    "    \"\"\"Language client used to drive test cases.\"\"\"\n",
    "\n",
    "    def __init__(\n",
    "        self,\n",
    "        name: str,\n",
    "        version: str,\n",
    "        protocol_cls: Type[LanguageClientProtocol] = LanguageClientProtocol,\n",
    "        converter_factory=default_converter,\n",
    "        **kwargs,\n",
    "    ):\n",
    "        super().__init__(\n",
    "            name=name,\n",
    "            version=version,\n",
    "            protocol_cls=protocol_cls,\n",
    "            converter_factory=converter_factory,\n",
    "            **kwargs,\n",
    "        )\n",
    "\n",
    "        self.diagnostics: Dict[str, List[lsp_types.Diagnostic]] = {}\n",
    "        \"\"\"Used to hold any recieved diagnostics.\"\"\"\n",
    "\n",
    "        self.messages: List[lsp_types.ShowMessageParams] = []\n",
    "        \"\"\"Holds any received ``window/showMessage`` requests.\"\"\"\n",
    "\n",
    "        self.log_messages: List[lsp_types.LogMessageParams] = []\n",
    "        \"\"\"Holds any received ``window/logMessage`` requests.\"\"\"\n",
    "\n",
    "    async def wait_for_notification(self, method: str):\n",
    "        \"\"\"Block until a notification with the given method is received.\n",
    "\n",
    "        Parameters\n",
    "        ----------\n",
    "        method\n",
    "           The notification method to wait for, e.g. ``textDocument/publishDiagnostics``\n",
    "        \"\"\"\n",
    "        return await self.protocol.wait_for_notification_async(method)"
   ]
  },
  {
   "cell_type": "code",
   "execution_count": 19,
   "metadata": {},
   "outputs": [],
   "source": [
    "client = LanguageClient(name=\"rust_lsp_client\", version=\"v1\")\n",
    "\n",
    "# Register LSP Features\n",
    "\n",
    "@client.feature(lsp_types.TEXT_DOCUMENT_PUBLISH_DIAGNOSTICS)\n",
    "def publish_diagnostics(\n",
    "    client: LanguageClient, params: lsp_types.PublishDiagnosticsParams\n",
    "):\n",
    "    client.diagnostics[params.uri] = params.diagnostics\n",
    "\n",
    "\n",
    "@client.feature(lsp_types.WINDOW_LOG_MESSAGE)\n",
    "def log_message(client: LanguageClient, params: lsp_types.LogMessageParams):\n",
    "    client.log_messages.append(params)\n",
    "\n",
    "    levels = [\"ERROR: \", \"WARNING: \", \"INFO: \", \"LOG: \"]\n",
    "    log_level = levels[params.type.value - 1]\n",
    "\n",
    "    print(log_level, params.message)\n",
    "\n",
    "\n",
    "@client.feature(lsp_types.WINDOW_SHOW_MESSAGE)\n",
    "def show_message(client: LanguageClient, params):\n",
    "    client.messages.append(params)\n",
    "\n",
    "\n",
    "# cmd to activate target Language Server. `rust-analyzer` is already enough for Rust.\n",
    "await client.start_io(\"rust-analyzer\")"
   ]
  },
  {
   "cell_type": "code",
   "execution_count": 21,
   "metadata": {},
   "outputs": [
    {
     "data": {
      "text/plain": [
       "InitializeResult(capabilities=ServerCapabilities(position_encoding='utf-16', text_document_sync=TextDocumentSyncOptions(open_close=True, change=<TextDocumentSyncKind.Incremental: 2>, will_save=None, will_save_wait_until=None, save=SaveOptions(include_text=None)), notebook_document_sync=None, completion_provider=CompletionOptions(trigger_characters=[':', '.', \"'\", '('], all_commit_characters=None, resolve_provider=None, completion_item=CompletionOptionsCompletionItemType(label_details_support=False), work_done_progress=None), hover_provider=True, signature_help_provider=SignatureHelpOptions(trigger_characters=['(', ',', '<'], retrigger_characters=None, work_done_progress=None), declaration_provider=True, definition_provider=True, type_definition_provider=True, implementation_provider=True, references_provider=True, document_highlight_provider=True, document_symbol_provider=True, code_action_provider=True, code_lens_provider=CodeLensOptions(resolve_provider=True, work_done_progress=None), document_link_provider=None, color_provider=None, workspace_symbol_provider=True, document_formatting_provider=True, document_range_formatting_provider=False, document_on_type_formatting_provider=DocumentOnTypeFormattingOptions(first_trigger_character='=', more_trigger_character=['.', '>', '{', '(']), rename_provider=RenameOptions(prepare_provider=True, work_done_progress=None), folding_range_provider=True, selection_range_provider=True, execute_command_provider=None, call_hierarchy_provider=True, linked_editing_range_provider=None, semantic_tokens_provider=SemanticTokensOptions(legend=SemanticTokensLegend(token_types=['comment', 'decorator', 'enumMember', 'enum', 'function', 'interface', 'keyword', 'macro', 'method', 'namespace', 'number', 'operator', 'parameter', 'property', 'string', 'struct', 'typeParameter', 'variable', 'angle', 'arithmetic', 'attribute', 'attributeBracket', 'bitwise', 'boolean', 'brace', 'bracket', 'builtinAttribute', 'builtinType', 'character', 'colon', 'comma', 'comparison', 'constParameter', 'derive', 'deriveHelper', 'dot', 'escapeSequence', 'invalidEscapeSequence', 'formatSpecifier', 'generic', 'label', 'lifetime', 'logical', 'macroBang', 'parenthesis', 'punctuation', 'selfKeyword', 'selfTypeKeyword', 'semicolon', 'typeAlias', 'toolModule', 'union', 'unresolvedReference'], token_modifiers=['documentation', 'declaration', 'static', 'defaultLibrary', 'async', 'attribute', 'callable', 'constant', 'consuming', 'controlFlow', 'crateRoot', 'injected', 'intraDocLink', 'library', 'macro', 'mutable', 'public', 'reference', 'trait', 'unsafe']), range=True, full=SemanticTokensOptionsFullType1(delta=True), work_done_progress=None), moniker_provider=None, type_hierarchy_provider=None, inline_value_provider=None, inlay_hint_provider=InlayHintOptions(resolve_provider=True, work_done_progress=None), diagnostic_provider=None, inline_completion_provider=None, workspace=ServerCapabilitiesWorkspaceType(workspace_folders=WorkspaceFoldersServerCapabilities(supported=True, change_notifications=True), file_operations=FileOperationOptions(did_create=None, will_create=None, did_rename=None, will_rename=FileOperationRegistrationOptions(filters=[FileOperationFilter(pattern=FileOperationPattern(glob='**/*.rs', matches=<FileOperationPatternKind.File: 'file'>, options=None), scheme='file'), FileOperationFilter(pattern=FileOperationPattern(glob='**', matches=<FileOperationPatternKind.Folder: 'folder'>, options=None), scheme='file')]), did_delete=None, will_delete=None)), experimental={'externalDocs': True, 'hoverRange': True, 'joinLines': True, 'matchingBrace': True, 'moveItem': True, 'onEnter': True, 'openCargoToml': True, 'parentModule': True, 'runnables': {'kinds': ['cargo']}, 'ssr': True, 'workspaceSymbolScopeKindFiltering': True}), server_info=InitializeResultServerInfoType(name='rust-analyzer', version='1.76.0-nightly (dd430bc 2023-11-14)'))"
      ]
     },
     "execution_count": 21,
     "metadata": {},
     "output_type": "execute_result"
    }
   ],
   "source": [
    "rust_project_dir = \"/mnt/vm_data/pythonProjects/rust_analyzer_client/rust_example/\"\n",
    "\n",
    "init_params = lsp_types.InitializeParams(\n",
    "    root_path=rust_project_dir,\n",
    "    capabilities=lsp_types.ClientCapabilities(),  # the LSP api is valid as long as the server support, no need to declare capabilities here\n",
    "    trace=lsp_types.TraceValues(\"messages\"),\n",
    ")\n",
    "\n",
    "init_result = await client.initialize_async(init_params)\n",
    "init_result"
   ]
  },
  {
   "cell_type": "code",
   "execution_count": 22,
   "metadata": {},
   "outputs": [],
   "source": [
    "client.initialized(init_params)"
   ]
  },
  {
   "cell_type": "markdown",
   "metadata": {},
   "source": [
    "### Init file uri\n",
    "The format of file expression is URL, which adds `file://` prefix to identify local files. (So the Language Server should also support analysing file in the Internet via `http`, `ftp`, etc.)"
   ]
  },
  {
   "cell_type": "code",
   "execution_count": 23,
   "metadata": {},
   "outputs": [
    {
     "data": {
      "text/plain": [
       "'file:///mnt/vm_data/pythonProjects/rust_analyzer_client/rust_lsp_test/src/main.rs'"
      ]
     },
     "execution_count": 23,
     "metadata": {},
     "output_type": "execute_result"
    }
   ],
   "source": [
    "file = \"src/main.rs\"\n",
    "\n",
    "file_uri = uris.from_fs_path(os.path.join(rust_project_dir, file))\n",
    "file_uri"
   ]
  },
  {
   "cell_type": "markdown",
   "metadata": {},
   "source": [
    "## Text Document Capabilities\n"
   ]
  },
  {
   "cell_type": "markdown",
   "metadata": {},
   "source": [
    "### Go to Definition\n",
    "Navigates to the definition of an identifier."
   ]
  },
  {
   "cell_type": "code",
   "execution_count": 26,
   "metadata": {},
   "outputs": [
    {
     "data": {
      "text/plain": [
       "[file:///mnt/vm_data/pythonProjects/rust_analyzer_client/rust_lsp_test/src/main.rs:35:7-35:15]"
      ]
     },
     "execution_count": 26,
     "metadata": {},
     "output_type": "execute_result"
    }
   ],
   "source": [
    "# definition_provider = init_result.capabilities.definition_provider\n",
    "symbol_position = lsp_types.Position(line=79, character=9)  # struct Numbered\n",
    "\n",
    "response = await client.text_document_definition_async(\n",
    "    lsp_types.DefinitionParams(\n",
    "        text_document=lsp_types.TextDocumentIdentifier(file_uri),\n",
    "        position=symbol_position,\n",
    "    )\n",
    ")\n",
    "response"
   ]
  },
  {
   "cell_type": "markdown",
   "metadata": {},
   "source": [
    "### Go to Decaration\n",
    "This is the same as `Go to Definition` with the following exceptions: - outline modules will navigate to the mod name; item declaration - trait assoc items will navigate to the assoc item of the trait declaration opposed to the trait impl - fields in patterns will navigate to the field declaration of the struct, union or variant"
   ]
  },
  {
   "cell_type": "code",
   "execution_count": 11,
   "metadata": {},
   "outputs": [
    {
     "data": {
      "text/plain": [
       "[file:///mnt/vm_data/pythonProjects/rust_analyzer_client/rust_lsp_test/src/main.rs:35:7-35:15]"
      ]
     },
     "execution_count": 11,
     "metadata": {},
     "output_type": "execute_result"
    }
   ],
   "source": [
    "# declaration_provider = init_result.capabilities.declaration_provider\n",
    "symbol_position = lsp_types.Position(line=79, character=9)  # struct Numbered\n",
    "\n",
    "response = await client.text_document_declaration_async(\n",
    "    lsp_types.DeclarationParams(\n",
    "        text_document=lsp_types.TextDocumentIdentifier(file_uri),\n",
    "        position=symbol_position,\n",
    "    )\n",
    ")\n",
    "response"
   ]
  },
  {
   "cell_type": "markdown",
   "metadata": {},
   "source": [
    "### Go to Type Definition"
   ]
  },
  {
   "cell_type": "code",
   "execution_count": 17,
   "metadata": {},
   "outputs": [
    {
     "data": {
      "text/plain": [
       "[file:///mnt/vm_data/pythonProjects/rust_analyzer_client/rust_lsp_test/src/main.rs:35:7-35:15]"
      ]
     },
     "execution_count": 17,
     "metadata": {},
     "output_type": "execute_result"
    }
   ],
   "source": [
    "symbol_position = lsp_types.Position(line=79, character=10)  # struct Numbered\n",
    "\n",
    "response = await client.text_document_type_definition_async(\n",
    "    lsp_types.TypeDefinitionParams(\n",
    "        text_document=lsp_types.TextDocumentIdentifier(file_uri),\n",
    "        position=symbol_position,\n",
    "    )\n",
    ")\n",
    "response"
   ]
  },
  {
   "cell_type": "markdown",
   "metadata": {},
   "source": [
    "### Go to Implementation\n",
    "Navigates to the impl blocks of types."
   ]
  },
  {
   "cell_type": "code",
   "execution_count": 12,
   "metadata": {},
   "outputs": [
    {
     "data": {
      "text/plain": [
       "[file:///mnt/vm_data/pythonProjects/rust_analyzer_client/rust_lsp_test/src/main.rs:45:22-45:33,\n",
       " file:///mnt/vm_data/pythonProjects/rust_analyzer_client/rust_lsp_test/src/main.rs:34:0-34:16]"
      ]
     },
     "execution_count": 12,
     "metadata": {},
     "output_type": "execute_result"
    }
   ],
   "source": [
    "# impl_provider = init_result.capabilities.implementation_provider\n",
    "symbol_position = lsp_types.Position(line=79, character=9)  # struct Numbered\n",
    "\n",
    "response = await client.text_document_implementation_async(\n",
    "    lsp_types.ImplementationParams(\n",
    "        text_document=lsp_types.TextDocumentIdentifier(file_uri),\n",
    "        position=symbol_position,\n",
    "    )\n",
    ")\n",
    "response"
   ]
  },
  {
   "cell_type": "markdown",
   "metadata": {},
   "source": [
    "### Get Hover Information"
   ]
  },
  {
   "cell_type": "code",
   "execution_count": 15,
   "metadata": {},
   "outputs": [
    {
     "name": "stdout",
     "output_type": "stream",
     "text": [
      "core::num::nonzero::NonZeroUsize\n",
      "\n",
      "pub const unsafe fn new_unchecked(n: usize) -> Self\n",
      "\n",
      "\n",
      "Creates a non-zero without checking whether the value is non-zero. This results in undefined behaviour if the value is zero.\n",
      "\n",
      "SafetyThe value must not be zero.\n"
     ]
    }
   ],
   "source": [
    "symbol_position = lsp_types.Position(line=27, character=70)  # struct Numbered\n",
    "\n",
    "response = await client.text_document_hover_async(\n",
    "    lsp_types.HoverParams(\n",
    "        text_document=lsp_types.TextDocumentIdentifier(file_uri),\n",
    "        position=symbol_position,\n",
    "    )\n",
    ")\n",
    "print(response.contents.value)"
   ]
  },
  {
   "cell_type": "markdown",
   "metadata": {},
   "source": [
    "### Get parent component \n",
    "Get parent block of current item via `textDocument/selectionRange`."
   ]
  },
  {
   "cell_type": "code",
   "execution_count": 14,
   "metadata": {},
   "outputs": [
    {
     "name": "stdout",
     "output_type": "stream",
     "text": [
      "51:18-51:18\n",
      "51:18-51:22\n",
      "51:18-51:31\n",
      "51:8-51:32\n",
      "50:67-54:5\n",
      "46:4-54:5\n",
      "45:34-73:1\n",
      "45:0-73:1\n",
      "0:0-89:0\n"
     ]
    }
   ],
   "source": [
    "positions = [\n",
    "    lsp_types.Position(line=51, character=18),\n",
    "]\n",
    "response = await client.text_document_selection_range_async(\n",
    "    lsp_types.SelectionRangeParams(\n",
    "        text_document=lsp_types.TextDocumentIdentifier(file_uri),\n",
    "        positions=positions,\n",
    "    )\n",
    ")\n",
    "selection_range = response[0]\n",
    "while selection_range is not None:\n",
    "    print(selection_range.range)\n",
    "    selection_range = selection_range.parent"
   ]
  },
  {
   "cell_type": "markdown",
   "metadata": {},
   "source": [
    "### Inlay Hints"
   ]
  },
  {
   "cell_type": "code",
   "execution_count": 11,
   "metadata": {},
   "outputs": [
    {
     "data": {
      "text/plain": [
       "[InlayHint(position=51:15, label=[InlayHintLabelPart(value=': *const ', tooltip=None, location=None, command=None), InlayHintLabelPart(value='Numbered', tooltip=None, location=file:///mnt/vm_data/pythonProjects/rust_analyzer_client/rust_lsp_test/src/main.rs:35:7-35:15, command=None), InlayHintLabelPart(value='<T>', tooltip=None, location=None, command=None)], kind=<InlayHintKind.Type: 1>, text_edits=[TextEdit(range=51:15-51:15, new_text=': *const Numbered<T>')], tooltip=None, padding_left=False, padding_right=False, data=None),\n",
       " InlayHint(position=52:13, label=[InlayHintLabelPart(value=': *mut ', tooltip=None, location=None, command=None), InlayHintLabelPart(value='Numbered', tooltip=None, location=file:///mnt/vm_data/pythonProjects/rust_analyzer_client/rust_lsp_test/src/main.rs:35:7-35:15, command=None), InlayHintLabelPart(value='<T>', tooltip=None, location=None, command=None)], kind=<InlayHintKind.Type: 1>, text_edits=[TextEdit(range=52:13-52:13, new_text=': *mut Numbered<T>')], tooltip=None, padding_left=False, padding_right=False, data=None),\n",
       " InlayHint(position=52:24, label=[InlayHintLabelPart(value='count:', tooltip=None, location=file:///home/lihuan/.rustup/toolchains/nightly-x86_64-unknown-linux-gnu/lib/rustlib/src/rust/library/core/src/ptr/const_ptr.rs:937:34-937:39, command=None)], kind=<InlayHintKind.Parameter: 2>, text_edits=None, tooltip=None, padding_left=False, padding_right=True, data=None)]"
      ]
     },
     "execution_count": 11,
     "metadata": {},
     "output_type": "execute_result"
    }
   ],
   "source": [
    "symbol_position = lsp_types.Position(line=79, character=9)  # struct Numbered\n",
    "block_range = lsp_types.Range(\n",
    "    lsp_types.Position(line=50, character=67), lsp_types.Position(line=54, character=5)\n",
    ")\n",
    "response = await client.text_document_inlay_hint_async(\n",
    "    lsp_types.InlayHintParams(\n",
    "        text_document=lsp_types.TextDocumentIdentifier(file_uri),\n",
    "        range=block_range,\n",
    "    )\n",
    ")\n",
    "response"
   ]
  },
  {
   "cell_type": "markdown",
   "metadata": {},
   "source": [
    "### Hierarchy incoming or outgoing calls"
   ]
  },
  {
   "cell_type": "code",
   "execution_count": 15,
   "metadata": {},
   "outputs": [
    {
     "data": {
      "text/plain": [
       "[CallHierarchyIncomingCall(from_=CallHierarchyItem(name='replace', kind=<SymbolKind.Function: 12>, uri='file:///mnt/vm_data/pythonProjects/rust_analyzer_client/rust_lsp_test/src/main.rs', range=56:4-72:5, selection_range=58:7-58:14, tags=None, detail='fn replace(list: &[Self], value: Self)', data=None), from_ranges=[69:22-69:32])]"
      ]
     },
     "execution_count": 15,
     "metadata": {},
     "output_type": "execute_result"
    }
   ],
   "source": [
    "item = lsp_types.CallHierarchyItem(\n",
    "    \"Numbered-struct\",\n",
    "    lsp_types.SymbolKind.Function,\n",
    "    uri=file_uri,\n",
    "    range=lsp_types.Range(lsp_types.Position(50, 14), lsp_types.Position(50, 24)),\n",
    "    selection_range=lsp_types.Range(\n",
    "        lsp_types.Position(50, 14), lsp_types.Position(50, 24)\n",
    "    ),\n",
    ")\n",
    "response = await client.call_hierarchy_incoming_calls_async(\n",
    "    lsp_types.CallHierarchyIncomingCallsParams(item=item)\n",
    ")\n",
    "response"
   ]
  },
  {
   "cell_type": "code",
   "execution_count": 16,
   "metadata": {},
   "outputs": [
    {
     "data": {
      "text/plain": [
       "[CallHierarchyOutgoingCall(to=CallHierarchyItem(name='as_ptr', kind=<SymbolKind.Function: 12>, uri='file:///home/lihuan/.rustup/toolchains/nightly-x86_64-unknown-linux-gnu/lib/rustlib/src/rust/library/core/src/slice/mod.rs', range=714:4-747:5, selection_range=745:17-745:23, tags=None, detail='pub const fn as_ptr(&self) -> *const T', data=None), from_ranges=[73:51-74:0]),\n",
       " CallHierarchyOutgoingCall(to=CallHierarchyItem(name='add', kind=<SymbolKind.Function: 12>, uri='file:///home/lihuan/.rustup/toolchains/nightly-x86_64-unknown-linux-gnu/lib/rustlib/src/rust/library/core/src/ptr/const_ptr.rs', range=883:4-943:5, selection_range=937:24-937:27, tags=None, detail='pub const unsafe fn add(self, count: usize) -> Self\\nwhere\\n    T: Sized,', data=None), from_ranges=[54:35-54:38])]"
      ]
     },
     "execution_count": 16,
     "metadata": {},
     "output_type": "execute_result"
    }
   ],
   "source": [
    "response = await client.call_hierarchy_outgoing_calls_async(\n",
    "    lsp_types.CallHierarchyOutgoingCallsParams(item=item)\n",
    ")\n",
    "response"
   ]
  },
  {
   "cell_type": "markdown",
   "metadata": {},
   "source": [
    "## Diagnostics"
   ]
  },
  {
   "cell_type": "markdown",
   "metadata": {},
   "source": [
    "### Text Document Diagnostic\n",
    "`rust-analyzer` does not implement `pull diagnostic` feature which includes `textDocument/diagnostic` and `workspace/diagnostic`, so the only way to get the diagnostic message is through notification from server to client via `textDocument/publishDiagnostic`.\n",
    "\n",
    "Attention: An open notification must not be sent more than once without a corresponding close notification send before. This means open and close notification must be balanced and the max open count is one."
   ]
  },
  {
   "cell_type": "code",
   "execution_count": 24,
   "metadata": {},
   "outputs": [
    {
     "data": {
      "text/plain": [
       "[Diagnostic(range=12:3-12:22, message='function `default_num_threads` is never used\\n`#[warn(dead_code)]` on by default', severity=<DiagnosticSeverity.Warning: 2>, code='dead_code', code_description=None, source='rustc', tags=[<DiagnosticTag.Unnecessary: 1>], related_information=None, data={'rendered': 'warning: function `default_num_threads` is never used\\n  --> src/main.rs:13:4\\n   |\\n13 | fn default_num_threads() -> NonZeroUsize {\\n   |    ^^^^^^^^^^^^^^^^^^^\\n   |\\n   = note: `#[warn(dead_code)]` on by default\\n\\n'}),\n",
       " Diagnostic(range=37:4-37:9, message='field `field` is never read\\n`Numbered` has a derived impl for the trait `Debug`, but this is intentionally ignored during dead code analysis', severity=<DiagnosticSeverity.Warning: 2>, code='dead_code', code_description=None, source='rustc', tags=[<DiagnosticTag.Unnecessary: 1>], related_information=[DiagnosticRelatedInformation(location=file:///mnt/vm_data/pythonProjects/rust_analyzer_client/rust_lsp_test/src/main.rs:35:7-35:15, message='field in this struct')], data={'rendered': 'warning: field `field` is never read\\n  --> src/main.rs:38:5\\n   |\\n36 | struct Numbered<T> {\\n   |        -------- field in this struct\\n37 |     id: usize,\\n38 |     field: T,\\n   |     ^^^^^\\n   |\\n   = note: `Numbered` has a derived impl for the trait `Debug`, but this is intentionally ignored during dead code analysis\\n\\n'}),\n",
       " Diagnostic(range=35:7-35:15, message='field in this struct', severity=<DiagnosticSeverity.Hint: 4>, code='dead_code', code_description=None, source='rustc', tags=None, related_information=[DiagnosticRelatedInformation(location=file:///mnt/vm_data/pythonProjects/rust_analyzer_client/rust_lsp_test/src/main.rs:37:4-37:9, message='original diagnostic')], data=None)]"
      ]
     },
     "execution_count": 24,
     "metadata": {},
     "output_type": "execute_result"
    }
   ],
   "source": [
    "file_item = lsp_types.TextDocumentItem(\n",
    "    uri=file_uri, language_id=\"rust\", version=3, text=\"\"\n",
    ")\n",
    "# client.text_document_did_open(lsp_types.DidOpenTextDocumentParams(file_item))\n",
    "# await client.wait_for_notification(lsp_types.TEXT_DOCUMENT_PUBLISH_DIAGNOSTICS)\n",
    "# client.text_document_did_close(lsp_types.DidCloseTextDocumentParams(file_item))\n",
    "\n",
    "diagnostics = client.diagnostics[file_uri]\n",
    "diagnostics"
   ]
  },
  {
   "cell_type": "markdown",
   "metadata": {},
   "source": [
    "### File Diagnostic\n",
    "Undefined in `rust-analyzer`"
   ]
  },
  {
   "cell_type": "code",
   "execution_count": null,
   "metadata": {},
   "outputs": [],
   "source": [
    "response = await client.text_document_diagnostic_async(\n",
    "    lsp_types.DocumentDiagnosticParams(\n",
    "        text_document=lsp_types.TextDocumentIdentifier(file_uri)\n",
    "    )\n",
    ")\n",
    "response.items"
   ]
  },
  {
   "cell_type": "markdown",
   "metadata": {},
   "source": [
    "### Workspace Diagnostic\n",
    "Undefined in `rust-analyzer`"
   ]
  },
  {
   "cell_type": "code",
   "execution_count": null,
   "metadata": {},
   "outputs": [],
   "source": [
    "response = await client.workspace_diagnostic_async(\n",
    "    lsp_types.WorkspaceDiagnosticParams(previous_result_ids=[])\n",
    ")\n",
    "response.items[0].items"
   ]
  },
  {
   "cell_type": "code",
   "execution_count": 25,
   "metadata": {},
   "outputs": [
    {
     "data": {
      "text/plain": [
       "[]"
      ]
     },
     "execution_count": 25,
     "metadata": {},
     "output_type": "execute_result"
    }
   ],
   "source": [
    "client.log_messages"
   ]
  },
  {
   "cell_type": "code",
   "execution_count": 26,
   "metadata": {},
   "outputs": [
    {
     "data": {
      "text/plain": [
       "[]"
      ]
     },
     "execution_count": 26,
     "metadata": {},
     "output_type": "execute_result"
    }
   ],
   "source": [
    "client.messages"
   ]
  },
  {
   "cell_type": "code",
   "execution_count": null,
   "metadata": {},
   "outputs": [],
   "source": []
  }
 ],
 "metadata": {
  "kernelspec": {
   "display_name": "lsp_client",
   "language": "python",
   "name": "python3"
  },
  "language_info": {
   "codemirror_mode": {
    "name": "ipython",
    "version": 3
   },
   "file_extension": ".py",
   "mimetype": "text/x-python",
   "name": "python",
   "nbconvert_exporter": "python",
   "pygments_lexer": "ipython3",
   "version": "3.10.13"
  }
 },
 "nbformat": 4,
 "nbformat_minor": 2
}
