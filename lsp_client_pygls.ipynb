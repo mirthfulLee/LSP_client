{
 "cells": [
  {
   "cell_type": "code",
   "execution_count": 47,
   "metadata": {},
   "outputs": [],
   "source": [
    "import pygls.lsp.client as lsp_client\n",
    "from pygls import uris\n",
    "\n",
    "import lsprotocol.types as lsp_types\n",
    "from typing import Dict, List, Type\n",
    "import sys\n",
    "import os\n",
    "import pathlib"
   ]
  },
  {
   "cell_type": "code",
   "execution_count": 48,
   "metadata": {},
   "outputs": [],
   "source": [
    "# https://github.com/openlawlibrary/pygls/blob/8e1e8fa3b1ab16fcb804f7d5330ece2e5583206b/tests/client.py#L162\n",
    "class LanguageClient(lsp_client.BaseLanguageClient):\n",
    "    \"\"\"Language client used to drive test cases.\"\"\"\n",
    "\n",
    "    def __init__(\n",
    "        self,\n",
    "        *args,\n",
    "        **kwargs,\n",
    "    ):\n",
    "        super().__init__(*args, **kwargs)\n",
    "\n",
    "        self.diagnostics: Dict[str, List[lsp_types.Diagnostic]] = {}\n",
    "        \"\"\"Used to hold any recieved diagnostics.\"\"\"\n",
    "\n",
    "        self.messages: List[lsp_types.ShowMessageParams] = []\n",
    "        \"\"\"Holds any received ``window/showMessage`` requests.\"\"\"\n",
    "\n",
    "        self.log_messages: List[lsp_types.LogMessageParams] = []\n",
    "        \"\"\"Holds any received ``window/logMessage`` requests.\"\"\""
   ]
  },
  {
   "cell_type": "code",
   "execution_count": 51,
   "metadata": {},
   "outputs": [],
   "source": [
    "text_doc_caps = lsp_types.TextDocumentClientCapabilities(\n",
    "    # synchronization=lsp_types.TextDocumentSyncClientCapabilities(),\n",
    "    # completion=lsp_types.CompletionClientCapabilities(),\n",
    "    hover=lsp_types.HoverClientCapabilities(),\n",
    "    definition=lsp_types.DefinitionClientCapabilities(),\n",
    "    declaration=lsp_types.DeclarationClientCapabilities(),\n",
    "    implementation=lsp_types.ImplementationClientCapabilities(),\n",
    "    # publish_diagnostics=lsp_types.PublishDiagnosticsClientCapabilities(),  # TODO: add diagnostics capability\n",
    "    # type_definition=lsp_types.TypeDefinitionClientCapabilities(),\n",
    ")\n",
    "\n",
    "workspace_caps = lsp_types.WorkspaceClientCapabilities(\n",
    "    apply_edit=True,\n",
    "    workspace_edit=lsp_types.WorkspaceEditClientCapabilities(),\n",
    "    diagnostics=lsp_types.DiagnosticClientCapabilities()\n",
    ")\n",
    "\n",
    "client_capabilities = lsp_types.ClientCapabilities(\n",
    "    workspace=workspace_caps,\n",
    "    text_document=text_doc_caps\n",
    ")\n",
    "\n",
    "client_trace = lsp_types.TraceValues(\"messages\")\n",
    "\n",
    "rust_project_dir = \"/mnt/vm_data/pythonProjects/rust_analyzer_client/rust_lsp_test/\"\n",
    "\n",
    "init_params = lsp_types.InitializeParams(\n",
    "    root_path=rust_project_dir,\n",
    "    capabilities=client_capabilities,\n",
    "    trace=client_trace,\n",
    "    # process_id=1302555  # the rust-analyzer server opened by vscode????\n",
    ")"
   ]
  },
  {
   "cell_type": "code",
   "execution_count": null,
   "metadata": {},
   "outputs": [],
   "source": [
    "client = LanguageClient(\"rust_lsp_client\", \"0.1\")\n",
    "\n",
    "\n",
    "@client.feature(lsp_types.TEXT_DOCUMENT_PUBLISH_DIAGNOSTICS)\n",
    "def publish_diagnostics(\n",
    "    client: LanguageClient, params: lsp_types.PublishDiagnosticsParams\n",
    "):\n",
    "    client.diagnostics[params.uri] = params.diagnostics\n",
    "\n",
    "\n",
    "@client.feature(lsp_types.WINDOW_LOG_MESSAGE)\n",
    "def log_message(client: LanguageClient, params: lsp_types.LogMessageParams):\n",
    "    client.log_messages.append(params)\n",
    "\n",
    "    levels = [\"ERROR: \", \"WARNING: \", \"INFO: \", \"LOG: \"]\n",
    "    log_level = levels[params.type.value - 1]\n",
    "\n",
    "    print(log_level, params.message)\n",
    "\n",
    "\n",
    "@client.feature(lsp_types.WINDOW_SHOW_MESSAGE)\n",
    "def show_message(client: LanguageClient, params):\n",
    "    client.messages.append(params)"
   ]
  },
  {
   "cell_type": "code",
   "execution_count": 50,
   "metadata": {},
   "outputs": [],
   "source": [
    "await client.start_io(\"rust-analyzer\")"
   ]
  },
  {
   "cell_type": "code",
   "execution_count": 52,
   "metadata": {},
   "outputs": [
    {
     "data": {
      "text/plain": [
       "InitializeResult(capabilities=ServerCapabilities(position_encoding='utf-16', text_document_sync=TextDocumentSyncOptions(open_close=True, change=<TextDocumentSyncKind.Incremental: 2>, will_save=None, will_save_wait_until=None, save=SaveOptions(include_text=None)), notebook_document_sync=None, completion_provider=CompletionOptions(trigger_characters=[':', '.', \"'\", '('], all_commit_characters=None, resolve_provider=None, completion_item=CompletionOptionsCompletionItemType(label_details_support=False), work_done_progress=None), hover_provider=True, signature_help_provider=SignatureHelpOptions(trigger_characters=['(', ',', '<'], retrigger_characters=None, work_done_progress=None), declaration_provider=True, definition_provider=True, type_definition_provider=True, implementation_provider=True, references_provider=True, document_highlight_provider=True, document_symbol_provider=True, code_action_provider=True, code_lens_provider=CodeLensOptions(resolve_provider=True, work_done_progress=None), document_link_provider=None, color_provider=None, workspace_symbol_provider=True, document_formatting_provider=True, document_range_formatting_provider=False, document_on_type_formatting_provider=DocumentOnTypeFormattingOptions(first_trigger_character='=', more_trigger_character=['.', '>', '{', '(']), rename_provider=RenameOptions(prepare_provider=True, work_done_progress=None), folding_range_provider=True, selection_range_provider=True, execute_command_provider=None, call_hierarchy_provider=True, linked_editing_range_provider=None, semantic_tokens_provider=SemanticTokensOptions(legend=SemanticTokensLegend(token_types=['comment', 'decorator', 'enumMember', 'enum', 'function', 'interface', 'keyword', 'macro', 'method', 'namespace', 'number', 'operator', 'parameter', 'property', 'string', 'struct', 'typeParameter', 'variable', 'angle', 'arithmetic', 'attribute', 'attributeBracket', 'bitwise', 'boolean', 'brace', 'bracket', 'builtinAttribute', 'builtinType', 'character', 'colon', 'comma', 'comparison', 'constParameter', 'derive', 'deriveHelper', 'dot', 'escapeSequence', 'invalidEscapeSequence', 'formatSpecifier', 'generic', 'label', 'lifetime', 'logical', 'macroBang', 'parenthesis', 'punctuation', 'selfKeyword', 'selfTypeKeyword', 'semicolon', 'typeAlias', 'toolModule', 'union', 'unresolvedReference'], token_modifiers=['documentation', 'declaration', 'static', 'defaultLibrary', 'async', 'attribute', 'callable', 'constant', 'consuming', 'controlFlow', 'crateRoot', 'injected', 'intraDocLink', 'library', 'macro', 'mutable', 'public', 'reference', 'trait', 'unsafe']), range=True, full=SemanticTokensOptionsFullType1(delta=True), work_done_progress=None), moniker_provider=None, type_hierarchy_provider=None, inline_value_provider=None, inlay_hint_provider=InlayHintOptions(resolve_provider=True, work_done_progress=None), diagnostic_provider=None, inline_completion_provider=None, workspace=ServerCapabilitiesWorkspaceType(workspace_folders=WorkspaceFoldersServerCapabilities(supported=True, change_notifications=True), file_operations=FileOperationOptions(did_create=None, will_create=None, did_rename=None, will_rename=FileOperationRegistrationOptions(filters=[FileOperationFilter(pattern=FileOperationPattern(glob='**/*.rs', matches=<FileOperationPatternKind.File: 'file'>, options=None), scheme='file'), FileOperationFilter(pattern=FileOperationPattern(glob='**', matches=<FileOperationPatternKind.Folder: 'folder'>, options=None), scheme='file')]), did_delete=None, will_delete=None)), experimental={'externalDocs': True, 'hoverRange': True, 'joinLines': True, 'matchingBrace': True, 'moveItem': True, 'onEnter': True, 'openCargoToml': True, 'parentModule': True, 'runnables': {'kinds': ['cargo']}, 'ssr': True, 'workspaceSymbolScopeKindFiltering': True}), server_info=InitializeResultServerInfoType(name='rust-analyzer', version='1.76.0-nightly (dd430bc 2023-11-14)'))"
      ]
     },
     "execution_count": 52,
     "metadata": {},
     "output_type": "execute_result"
    }
   ],
   "source": [
    "init_result = await client.initialize_async(init_params)\n",
    "init_result"
   ]
  },
  {
   "cell_type": "code",
   "execution_count": 53,
   "metadata": {},
   "outputs": [],
   "source": [
    "client.initialized(init_params)"
   ]
  },
  {
   "cell_type": "code",
   "execution_count": 56,
   "metadata": {},
   "outputs": [],
   "source": [
    "definition_provider = init_result.capabilities.definition_provider\n",
    "declaration_provider = init_result.capabilities.declaration_provider"
   ]
  },
  {
   "cell_type": "code",
   "execution_count": 55,
   "metadata": {},
   "outputs": [
    {
     "data": {
      "text/plain": [
       "'file:///mnt/vm_data/pythonProjects/rust_analyzer_client/rust_lsp_test/src/main.rs'"
      ]
     },
     "execution_count": 55,
     "metadata": {},
     "output_type": "execute_result"
    }
   ],
   "source": [
    "file = \"src/main.rs\"\n",
    "\n",
    "file_uri = uris.from_fs_path(os.path.join(rust_project_dir, file))\n",
    "symbol_position = lsp_types.Position(line=79, character=9)\n",
    "file_uri"
   ]
  },
  {
   "cell_type": "code",
   "execution_count": 45,
   "metadata": {},
   "outputs": [
    {
     "data": {
      "text/plain": [
       "[file:///mnt/vm_data/pythonProjects/rust_analyzer_client/rust_lsp_test/src/main.rs:35:7-35:15]"
      ]
     },
     "execution_count": 45,
     "metadata": {},
     "output_type": "execute_result"
    }
   ],
   "source": [
    "response = await client.text_document_definition_async(\n",
    "    lsp_types.DefinitionParams(\n",
    "        text_document=lsp_types.TextDocumentIdentifier(file_uri),\n",
    "        position=symbol_position,\n",
    "    )\n",
    ")\n",
    "response"
   ]
  },
  {
   "cell_type": "code",
   "execution_count": 57,
   "metadata": {},
   "outputs": [
    {
     "data": {
      "text/plain": [
       "[file:///mnt/vm_data/pythonProjects/rust_analyzer_client/rust_lsp_test/src/main.rs:35:7-35:15]"
      ]
     },
     "execution_count": 57,
     "metadata": {},
     "output_type": "execute_result"
    }
   ],
   "source": [
    "response = await client.text_document_declaration_async(\n",
    "    lsp_types.DeclarationParams(\n",
    "        text_document=lsp_types.TextDocumentIdentifier(file_uri),\n",
    "        position=symbol_position,\n",
    "    )\n",
    ")\n",
    "response"
   ]
  },
  {
   "cell_type": "code",
   "execution_count": null,
   "metadata": {},
   "outputs": [],
   "source": []
  }
 ],
 "metadata": {
  "kernelspec": {
   "display_name": "lsp_client",
   "language": "python",
   "name": "python3"
  },
  "language_info": {
   "codemirror_mode": {
    "name": "ipython",
    "version": 3
   },
   "file_extension": ".py",
   "mimetype": "text/x-python",
   "name": "python",
   "nbconvert_exporter": "python",
   "pygments_lexer": "ipython3",
   "version": "3.10.13"
  }
 },
 "nbformat": 4,
 "nbformat_minor": 2
}
